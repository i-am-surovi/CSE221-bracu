{
  "nbformat": 4,
  "nbformat_minor": 0,
  "metadata": {
    "colab": {
      "provenance": []
    },
    "kernelspec": {
      "name": "python3",
      "display_name": "Python 3"
    },
    "language_info": {
      "name": "python"
    }
  },
  "cells": [
    {
      "cell_type": "markdown",
      "source": [
        "# **Task 1 (a)**"
      ],
      "metadata": {
        "id": "t8rCH84sOG1J"
      }
    },
    {
      "cell_type": "code",
      "execution_count": null,
      "metadata": {
        "id": "naEIe5CHedO-"
      },
      "outputs": [],
      "source": [
        "## Task 1 (a)\n",
        "\n",
        "# read the file\n",
        "f = open(\"input1a.txt\")\n",
        "\n",
        "# generate a output file by running the code\n",
        "f2 = open(\"output1a.txt\",\"w\")\n",
        "\n",
        "# read the test case\n",
        "T = int(f.readline())\n",
        "\n",
        "# to read each number of each line\n",
        "for i in range(T):\n",
        "  N = int(f.readline())\n",
        "\n",
        "  if i != T-1:\n",
        "    if N % 2 == 0:\n",
        "      f2.write(f\"{N} is an Even number.\\n\")\n",
        "    else:\n",
        "      f2.write(f\"{N} is an Odd number.\\n\")\n",
        "  else:\n",
        "    if N % 2 == 0:\n",
        "      f2.write(f\"{N} is an Even number.\")\n",
        "    else:\n",
        "      f2.write(f\"{N} is an Odd number.\")\n",
        "\n",
        "# Write and wait untill the generation of Output file\n",
        "f2.close()"
      ]
    },
    {
      "cell_type": "markdown",
      "source": [
        "# **Task 1 (b)**"
      ],
      "metadata": {
        "id": "1zh7SxCwOPAv"
      }
    },
    {
      "cell_type": "code",
      "source": [
        "## Task 1 (b)\n",
        "\n",
        "# read the file\n",
        "f = open(\"input1b.txt\")\n",
        "\n",
        "# create a output file with write\n",
        "f2 = open(\"output1b.txt\",\"w\")\n",
        "\n",
        "# read the test case\n",
        "T = int(f.readline())\n",
        "\n",
        "# to read each number of each line\n",
        "for i in range(T):\n",
        "  line = f.readline()\n",
        "  n1 = int(line.split(\" \")[1])\n",
        "  n2 = int(line.split(\" \")[3])\n",
        "  op = line.split(\" \")[2]\n",
        "\n",
        "  if i != T-1:\n",
        "    if op == \"+\":\n",
        "      f2.write(f\"The result of {n1} {op} {n2} is {n1+n2}\\n\")\n",
        "    if op == \"-\":\n",
        "      f2.write(f\"The result of {n1} {op} {n2} is {n1-n2}\\n\")\n",
        "    if op == \"*\":\n",
        "      f2.write(f\"The result of {n1} {op} {n2} is {n1*n2}\\n\")\n",
        "    if op == \"/\":\n",
        "      f2.write(f\"The result of {n1} {op} {n2} is {n1/n2}\\n\")\n",
        "  else:\n",
        "    if op == \"+\":\n",
        "      f2.write(f\"The result of {n1} {op} {n2} is {n1+n2}\")\n",
        "    if op == \"-\":\n",
        "      f2.write(f\"The result of {n1} {op} {n2} is {n1-n2}\")\n",
        "    if op == \"*\":\n",
        "      f2.write(f\"The result of {n1} {op} {n2} is {n1*n2}\")\n",
        "    if op == \"/\":\n",
        "      f2.write(f\"The result of {n1} {op} {n2} is {n1/n2}\")\n",
        "\n",
        "# Write and wait untill the generation of Output file\n",
        "f2.close()"
      ],
      "metadata": {
        "id": "53Oem1w1gBiE"
      },
      "execution_count": null,
      "outputs": []
    },
    {
      "cell_type": "markdown",
      "source": [
        "# **Task 2**"
      ],
      "metadata": {
        "id": "oIf2hJ6ROUWO"
      }
    },
    {
      "cell_type": "code",
      "source": [
        "## Task 2\n",
        "\n",
        "# Given Pseudocode/ Function\n",
        "def bubbleSort(arr):\n",
        "  sort = True    # [To check the Array either sorted or not]\n",
        "  for i in range(len(arr)-1):\n",
        "    for j in range(len(arr)-i-1):\n",
        "      if arr[j] > arr[j+1]:\n",
        "        arr[j], arr[j+1] = arr[j+1], arr[j]\n",
        "        sort = False   # {Swap means given array was not Sorted]\n",
        "\n",
        "    # Check best-case scenario\n",
        "    if sort == True:\n",
        "      break    # [We do not need to execute loop if the given array was already sorted]\n",
        "  return arr\n",
        "\n",
        "# read the file\n",
        "f = open(\"input2.txt\",\"r\")\n",
        "# generate a output file by running the code\n",
        "f2 = open(\"output2.txt\",\"w\")\n",
        "\n",
        "# read the array size\n",
        "arr_size = int(f.readline())\n",
        "\n",
        "# read the array\n",
        "array = f.readline().split(\" \")\n",
        "array = list(map(int, array))     # Convert ['1','2'] to [1,2]\n",
        "\n",
        "# Code for output file\n",
        "f2.write(\" \".join(str(num) for num in bubbleSort(array)))\n",
        "\n",
        "# In bubbleSort(array) we get a list in return.\n",
        "# Then we have to convert the list into string as write method take only String as parameter.\n",
        "\n",
        "# Must Close the file\n",
        "f2.close()"
      ],
      "metadata": {
        "id": "iPhE36RkkmYI"
      },
      "execution_count": null,
      "outputs": []
    },
    {
      "cell_type": "markdown",
      "source": [
        "# **Task 3**"
      ],
      "metadata": {
        "id": "b8qVIvrPOW03"
      }
    },
    {
      "cell_type": "code",
      "execution_count": 46,
      "metadata": {
        "id": "EpFb8LQjx3-o"
      },
      "outputs": [],
      "source": [
        "## Task 3\n",
        "\n",
        "# Selection Sort            [We use this sort for Minimum Swapping]\n",
        "def selection_sort(array):\n",
        "  for i in range(len(array)):\n",
        "    min_idx = i\n",
        "    for j in range(i+1, len(array)):\n",
        "      if array[min_idx] > array[j]:\n",
        "        min_idx = j\n",
        "    array[i], array[min_idx] = (array[min_idx], array[i])\n",
        "  return array\n",
        "\n",
        "# Read the file\n",
        "f = open(\"input3.txt\",\"r\")\n",
        "# Generate a output file by running the code\n",
        "f2 = open(\"output3.txt\",\"w\")\n",
        "\n",
        "# Read and save Inputs\n",
        "total = int(f.readline())\n",
        "id = list(map(int, f.readline().split(\" \")))\n",
        "numbers = list(map(int, f.readline().split(\" \")))   # Convert ['1','2'] to [1,2]\n",
        "\n",
        "# Creating a dictionary [numbers:ID]\n",
        "Id_num_pair = {}\n",
        "for i in range(total):\n",
        "  if numbers[i] in Id_num_pair.keys():\n",
        "    Id_num_pair[numbers[i]].append(id[i])\n",
        "  else:\n",
        "    Id_num_pair[numbers[i]] = [id[i]]\n",
        "\n",
        "sortedsorted_numbers = selection_sort(numbers)\n",
        "descending_sorted_numbers = sortedsorted_numbers[::-1]   # Sorting Numbers\n",
        "\n",
        "for id in Id_num_pair:\n",
        "  selection_sort(Id_num_pair[id])        # Sorting ID\n",
        "\n",
        "idx_c = 0\n",
        "i = 0\n",
        "\n",
        "while (i<total):\n",
        "  for num,id in Id_num_pair.items():\n",
        "    if descending_sorted_numbers[i] == num:           # ID-Number Maping\n",
        "      for j in range(len(id)):\n",
        "        f2.write(f\"ID: {id[j]} Mark: {num}\\n\")        # Write Output\n",
        "        idx_c += 1\n",
        "  i = idx_c              # Index of next number to print\n",
        "\n",
        "# Must Close the file\n",
        "f2.close()"
      ]
    },
    {
      "cell_type": "markdown",
      "source": [
        "# **Task 4**"
      ],
      "metadata": {
        "id": "XiLfpN8WOZPh"
      }
    },
    {
      "cell_type": "code",
      "source": [
        "## Task 4\n",
        "\n",
        "# Insertion Sort        [We use this sort for Laarge/Multiple Data]\n",
        "def insertionSort(schedule):\n",
        "  for i in range(1, len(schedule)):\n",
        "    train, dest, time = schedule[i]\n",
        "    hour = int(time.split(\":\")[0])\n",
        "    j = i - 1\n",
        "    prevTrain, prevDest, prevTime = schedule[j][0], schedule[j][1], schedule[j][2]\n",
        "    prevHour = int(prevTime.split(\":\")[0])\n",
        "    while j>=0 and (prevTrain > train or (prevTrain == train and prevHour < hour)):\n",
        "      schedule[j+1] = schedule[j]\n",
        "      j -= 1\n",
        "      prevTrain, prevDest, prevTime = schedule[j][0], schedule[j][1], schedule[j][2]\n",
        "      prevHour = int(prevTime.split(\":\")[0])\n",
        "    schedule[j+1] = (train, dest, time)\n",
        "  return schedule\n",
        "\n",
        "# Read the file\n",
        "f = open(\"input4.txt\",\"r\")\n",
        "# Generate a output file by running the code\n",
        "f2 = open(\"output4.txt\",\"w\")\n",
        "\n",
        "total = int(f.readline())\n",
        "\n",
        "schedule = []\n",
        "\n",
        "for i in range(total):\n",
        "  info = f.readline().split(\" \")\n",
        "  name = info[0]\n",
        "  district = info[-3]\n",
        "  time = info[-1][:-1]\n",
        "  schedule.append([name,district,time])\n",
        "\n",
        "sortedSchedule = insertionSort(schedule)\n",
        "\n",
        "for i in range(total):\n",
        "  f2.write(f\"{sortedSchedule[i][0]} will departure for {sortedSchedule[i][1]} at {sortedSchedule[i][2]}\\n\")\n",
        "\n",
        "# must close the file; Otherwise the output will not Update/generated\n",
        "f2.close()"
      ],
      "metadata": {
        "id": "Lk_jrBAMQn8R"
      },
      "execution_count": 57,
      "outputs": []
    }
  ]
}